{
 "cells": [
  {
   "cell_type": "code",
   "execution_count": 9,
   "metadata": {},
   "outputs": [],
   "source": [
    "import pandas as pd"
   ]
  },
  {
   "cell_type": "code",
   "execution_count": 10,
   "metadata": {},
   "outputs": [
    {
     "data": {
      "text/html": [
       "<div>\n",
       "<style scoped>\n",
       "    .dataframe tbody tr th:only-of-type {\n",
       "        vertical-align: middle;\n",
       "    }\n",
       "\n",
       "    .dataframe tbody tr th {\n",
       "        vertical-align: top;\n",
       "    }\n",
       "\n",
       "    .dataframe thead th {\n",
       "        text-align: right;\n",
       "    }\n",
       "</style>\n",
       "<table border=\"1\" class=\"dataframe\">\n",
       "  <thead>\n",
       "    <tr style=\"text-align: right;\">\n",
       "      <th></th>\n",
       "      <th>id</th>\n",
       "      <th>text</th>\n",
       "      <th>is_human</th>\n",
       "      <th>lang</th>\n",
       "    </tr>\n",
       "  </thead>\n",
       "  <tbody>\n",
       "    <tr>\n",
       "      <th>0</th>\n",
       "      <td>bba9c2379d3841a282f7231e7b9c8505</td>\n",
       "      <td>Car-free cities have become a subject of incre...</td>\n",
       "      <td>0</td>\n",
       "      <td>en</td>\n",
       "    </tr>\n",
       "    <tr>\n",
       "      <th>1</th>\n",
       "      <td>bba9c2379d3841a282f7231e7b9c8505</td>\n",
       "      <td>. Cost Savings: Car ownership and maintenance ...</td>\n",
       "      <td>0</td>\n",
       "      <td>en</td>\n",
       "    </tr>\n",
       "    <tr>\n",
       "      <th>2</th>\n",
       "      <td>bba9c2379d3841a282f7231e7b9c8505</td>\n",
       "      <td>. Implement Carpooling and Ride-Sharing: Promo...</td>\n",
       "      <td>0</td>\n",
       "      <td>en</td>\n",
       "    </tr>\n",
       "    <tr>\n",
       "      <th>3</th>\n",
       "      <td>31a9bb04ab214c1c8c4b8bb9f8ee87e6</td>\n",
       "      <td>Car Free Cities Car-free cities, a concept gai...</td>\n",
       "      <td>0</td>\n",
       "      <td>en</td>\n",
       "    </tr>\n",
       "    <tr>\n",
       "      <th>4</th>\n",
       "      <td>31a9bb04ab214c1c8c4b8bb9f8ee87e6</td>\n",
       "      <td>. Parking lots and wide roads can be repurpose...</td>\n",
       "      <td>0</td>\n",
       "      <td>en</td>\n",
       "    </tr>\n",
       "    <tr>\n",
       "      <th>...</th>\n",
       "      <td>...</td>\n",
       "      <td>...</td>\n",
       "      <td>...</td>\n",
       "      <td>...</td>\n",
       "    </tr>\n",
       "    <tr>\n",
       "      <th>2515139</th>\n",
       "      <td>fcc125800bba4ba1b0bf0b6f00ddc4ac</td>\n",
       "      <td>. 4. Идеи подарков: отдайтесь тренду впечатлен...</td>\n",
       "      <td>0</td>\n",
       "      <td>ru</td>\n",
       "    </tr>\n",
       "    <tr>\n",
       "      <th>2515140</th>\n",
       "      <td>337db08bb3ab413093e7b756519128f0</td>\n",
       "      <td>Учёные сообщают о новых достижениях в области ...</td>\n",
       "      <td>0</td>\n",
       "      <td>ru</td>\n",
       "    </tr>\n",
       "    <tr>\n",
       "      <th>2515141</th>\n",
       "      <td>0ffe9b7f11574eb584969a0c9f6c2ccd</td>\n",
       "      <td>Представьте себе идеальный день: вы просыпаете...</td>\n",
       "      <td>0</td>\n",
       "      <td>ru</td>\n",
       "    </tr>\n",
       "    <tr>\n",
       "      <th>2515142</th>\n",
       "      <td>306168e83b444dc2827e02889a93494d</td>\n",
       "      <td>Москва, 10 мая 2024 г. — В условиях растущей с...</td>\n",
       "      <td>0</td>\n",
       "      <td>ru</td>\n",
       "    </tr>\n",
       "    <tr>\n",
       "      <th>2515143</th>\n",
       "      <td>705feb5fbb8e48f8a5a44b0d118f1ef6</td>\n",
       "      <td>Москва, 12 сентября — Эксперты Всемирного фонд...</td>\n",
       "      <td>0</td>\n",
       "      <td>ru</td>\n",
       "    </tr>\n",
       "  </tbody>\n",
       "</table>\n",
       "<p>2515144 rows × 4 columns</p>\n",
       "</div>"
      ],
      "text/plain": [
       "                                       id  \\\n",
       "0        bba9c2379d3841a282f7231e7b9c8505   \n",
       "1        bba9c2379d3841a282f7231e7b9c8505   \n",
       "2        bba9c2379d3841a282f7231e7b9c8505   \n",
       "3        31a9bb04ab214c1c8c4b8bb9f8ee87e6   \n",
       "4        31a9bb04ab214c1c8c4b8bb9f8ee87e6   \n",
       "...                                   ...   \n",
       "2515139  fcc125800bba4ba1b0bf0b6f00ddc4ac   \n",
       "2515140  337db08bb3ab413093e7b756519128f0   \n",
       "2515141  0ffe9b7f11574eb584969a0c9f6c2ccd   \n",
       "2515142  306168e83b444dc2827e02889a93494d   \n",
       "2515143  705feb5fbb8e48f8a5a44b0d118f1ef6   \n",
       "\n",
       "                                                      text  is_human lang  \n",
       "0        Car-free cities have become a subject of incre...         0   en  \n",
       "1        . Cost Savings: Car ownership and maintenance ...         0   en  \n",
       "2        . Implement Carpooling and Ride-Sharing: Promo...         0   en  \n",
       "3        Car Free Cities Car-free cities, a concept gai...         0   en  \n",
       "4        . Parking lots and wide roads can be repurpose...         0   en  \n",
       "...                                                    ...       ...  ...  \n",
       "2515139  . 4. Идеи подарков: отдайтесь тренду впечатлен...         0   ru  \n",
       "2515140  Учёные сообщают о новых достижениях в области ...         0   ru  \n",
       "2515141  Представьте себе идеальный день: вы просыпаете...         0   ru  \n",
       "2515142  Москва, 10 мая 2024 г. — В условиях растущей с...         0   ru  \n",
       "2515143  Москва, 12 сентября — Эксперты Всемирного фонд...         0   ru  \n",
       "\n",
       "[2515144 rows x 4 columns]"
      ]
     },
     "execution_count": 10,
     "metadata": {},
     "output_type": "execute_result"
    }
   ],
   "source": [
    "merged_df = pd.read_csv('../data/merged.csv', lineterminator='\\n')\n",
    "merged_df"
   ]
  },
  {
   "cell_type": "code",
   "execution_count": 11,
   "metadata": {},
   "outputs": [
    {
     "data": {
      "text/plain": [
       "2515144"
      ]
     },
     "execution_count": 11,
     "metadata": {},
     "output_type": "execute_result"
    }
   ],
   "source": [
    "len(merged_df)"
   ]
  },
  {
   "cell_type": "code",
   "execution_count": 12,
   "metadata": {},
   "outputs": [
    {
     "data": {
      "text/plain": [
       "(1635440, 879704)"
      ]
     },
     "execution_count": 12,
     "metadata": {},
     "output_type": "execute_result"
    }
   ],
   "source": [
    "len(merged_df[merged_df['is_human'] == 1]), len(merged_df[merged_df['is_human'] == 0])"
   ]
  },
  {
   "cell_type": "code",
   "execution_count": 13,
   "metadata": {},
   "outputs": [
    {
     "data": {
      "text/plain": [
       "(1989162, 525982)"
      ]
     },
     "execution_count": 13,
     "metadata": {},
     "output_type": "execute_result"
    }
   ],
   "source": [
    "len(merged_df[merged_df['lang'] == 'en']), len(merged_df[merged_df['lang'] == 'ru'])"
   ]
  },
  {
   "cell_type": "code",
   "execution_count": 21,
   "metadata": {},
   "outputs": [
    {
     "data": {
      "image/png": "[encoded data removed]",
      "text/plain": [
       "<Figure size 1200x600 with 1 Axes>"
      ]
     },
     "metadata": {},
     "output_type": "display_data"
    }
   ],
   "source": [
    "import matplotlib.pyplot as plt\n",
    "import seaborn as sns\n",
    "\n",
    "# Calculate text lengths\n",
    "merged_df['text_length'] = merged_df['text'].str.len()\n",
    "\n",
    "# Create histogram\n",
    "plt.figure(figsize=(12, 6))\n",
    "sns.histplot(data=merged_df, x='text_length', bins=100, stat='percent')\n",
    "plt.xlabel('Text Length (characters)')\n",
    "plt.ylabel('Count')\n",
    "plt.title('Distribution of Text Lengths in the Dataset')\n",
    "\n",
    "# Add a vertical line for the mean\n",
    "mean_length = merged_df['text_length'].mean()\n",
    "plt.axvline(mean_length, color='red', linestyle='--', label=f'Mean: {mean_length:.0f} chars')\n",
    "plt.legend()\n",
    "\n",
    "plt.show()\n"
   ]
  },
  {
   "cell_type": "code",
   "execution_count": null,
   "metadata": {},
   "outputs": [],
   "source": []
  }
 ],
 "metadata": {
  "kernelspec": {
   "display_name": "base",
   "language": "python",
   "name": "python3"
  },
  "language_info": {
   "codemirror_mode": {
    "name": "ipython",
    "version": 3
   },
   "file_extension": ".py",
   "mimetype": "text/x-python",
   "name": "python",
   "nbconvert_exporter": "python",
   "pygments_lexer": "ipython3",
   "version": "3.12.2"
  }
 },
 "nbformat": 4,
 "nbformat_minor": 2
}
