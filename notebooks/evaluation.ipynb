{
 "cells": [
  {
   "cell_type": "code",
   "execution_count": 1,
   "metadata": {},
   "outputs": [
    {
     "name": "stderr",
     "output_type": "stream",
     "text": [
      "/opt/homebrew/Caskroom/miniconda/base/lib/python3.12/site-packages/tqdm/auto.py:21: TqdmWarning: IProgress not found. Please update jupyter and ipywidgets. See https://ipywidgets.readthedocs.io/en/stable/user_install.html\n",
      "  from .autonotebook import tqdm as notebook_tqdm\n"
     ]
    }
   ],
   "source": [
    "import sys\n",
    "sys.path.append('..')\n",
    "\n",
    "import pandas as pd\n",
    "from tqdm import tqdm\n",
    "from dotenv import load_dotenv\n",
    "\n",
    "from model.model import Model"
   ]
  },
  {
   "cell_type": "code",
   "execution_count": 2,
   "metadata": {},
   "outputs": [
    {
     "data": {
      "text/plain": [
       "True"
      ]
     },
     "execution_count": 2,
     "metadata": {},
     "output_type": "execute_result"
    }
   ],
   "source": [
    "load_dotenv()"
   ]
  },
  {
   "cell_type": "code",
   "execution_count": 3,
   "metadata": {},
   "outputs": [
    {
     "data": {
      "text/html": [
       "<div>\n",
       "<style scoped>\n",
       "    .dataframe tbody tr th:only-of-type {\n",
       "        vertical-align: middle;\n",
       "    }\n",
       "\n",
       "    .dataframe tbody tr th {\n",
       "        vertical-align: top;\n",
       "    }\n",
       "\n",
       "    .dataframe thead th {\n",
       "        text-align: right;\n",
       "    }\n",
       "</style>\n",
       "<table border=\"1\" class=\"dataframe\">\n",
       "  <thead>\n",
       "    <tr style=\"text-align: right;\">\n",
       "      <th></th>\n",
       "      <th>id</th>\n",
       "      <th>text</th>\n",
       "      <th>is_human</th>\n",
       "      <th>lang</th>\n",
       "    </tr>\n",
       "  </thead>\n",
       "  <tbody>\n",
       "    <tr>\n",
       "      <th>0</th>\n",
       "      <td>5eab6c6ec4534f8fa5827acbd100029d</td>\n",
       "      <td>. Employees are encouraged to work as a team t...</td>\n",
       "      <td>1</td>\n",
       "      <td>en</td>\n",
       "    </tr>\n",
       "    <tr>\n",
       "      <th>1</th>\n",
       "      <td>d67584ec96ac49578a98a16cf9fa1148</td>\n",
       "      <td>. People can look up anyone and see who they a...</td>\n",
       "      <td>1</td>\n",
       "      <td>en</td>\n",
       "    </tr>\n",
       "    <tr>\n",
       "      <th>2</th>\n",
       "      <td>10dc9b367cee4d74a8402f4128d5aa18</td>\n",
       "      <td>Рубашка сшита неплохо. НО! Ткань грубая, непри...</td>\n",
       "      <td>1</td>\n",
       "      <td>ru</td>\n",
       "    </tr>\n",
       "    <tr>\n",
       "      <th>3</th>\n",
       "      <td>061f6b40983047239fdde72badbd4d42</td>\n",
       "      <td>. Moreover, as Mote notes, the gladiatorial ga...</td>\n",
       "      <td>1</td>\n",
       "      <td>en</td>\n",
       "    </tr>\n",
       "    <tr>\n",
       "      <th>4</th>\n",
       "      <td>28d509e616a8441c95227187080c2005</td>\n",
       "      <td>. 16-22. Christensen, T. 2006, 'Fostering stab...</td>\n",
       "      <td>1</td>\n",
       "      <td>en</td>\n",
       "    </tr>\n",
       "    <tr>\n",
       "      <th>...</th>\n",
       "      <td>...</td>\n",
       "      <td>...</td>\n",
       "      <td>...</td>\n",
       "      <td>...</td>\n",
       "    </tr>\n",
       "    <tr>\n",
       "      <th>245</th>\n",
       "      <td>71d8e960db234719ba3e06e8e6679ab9</td>\n",
       "      <td>. As we know Toyota has introduced the concept...</td>\n",
       "      <td>1</td>\n",
       "      <td>en</td>\n",
       "    </tr>\n",
       "    <tr>\n",
       "      <th>246</th>\n",
       "      <td>480e6c4febb84a33bf5d12cbaa180bcc</td>\n",
       "      <td>. On the other hand, long-term goals refer to ...</td>\n",
       "      <td>1</td>\n",
       "      <td>en</td>\n",
       "    </tr>\n",
       "    <tr>\n",
       "      <th>247</th>\n",
       "      <td>447b1ccdedb94bb1875abbacd26baed6</td>\n",
       "      <td>[substeps] For example, if you have clutches t...</td>\n",
       "      <td>0</td>\n",
       "      <td>en</td>\n",
       "    </tr>\n",
       "    <tr>\n",
       "      <th>248</th>\n",
       "      <td>eb7e71e2768e4071a54597a285359569</td>\n",
       "      <td>Jessica wanted to do something big for her 30t...</td>\n",
       "      <td>1</td>\n",
       "      <td>en</td>\n",
       "    </tr>\n",
       "    <tr>\n",
       "      <th>249</th>\n",
       "      <td>32a7428f291f4a87ae4af79e1200435f</td>\n",
       "      <td>Purpose: Finding effective methods of discrimi...</td>\n",
       "      <td>1</td>\n",
       "      <td>en</td>\n",
       "    </tr>\n",
       "  </tbody>\n",
       "</table>\n",
       "<p>250 rows × 4 columns</p>\n",
       "</div>"
      ],
      "text/plain": [
       "                                   id  \\\n",
       "0    5eab6c6ec4534f8fa5827acbd100029d   \n",
       "1    d67584ec96ac49578a98a16cf9fa1148   \n",
       "2    10dc9b367cee4d74a8402f4128d5aa18   \n",
       "3    061f6b40983047239fdde72badbd4d42   \n",
       "4    28d509e616a8441c95227187080c2005   \n",
       "..                                ...   \n",
       "245  71d8e960db234719ba3e06e8e6679ab9   \n",
       "246  480e6c4febb84a33bf5d12cbaa180bcc   \n",
       "247  447b1ccdedb94bb1875abbacd26baed6   \n",
       "248  eb7e71e2768e4071a54597a285359569   \n",
       "249  32a7428f291f4a87ae4af79e1200435f   \n",
       "\n",
       "                                                  text  is_human lang  \n",
       "0    . Employees are encouraged to work as a team t...         1   en  \n",
       "1    . People can look up anyone and see who they a...         1   en  \n",
       "2    Рубашка сшита неплохо. НО! Ткань грубая, непри...         1   ru  \n",
       "3    . Moreover, as Mote notes, the gladiatorial ga...         1   en  \n",
       "4    . 16-22. Christensen, T. 2006, 'Fostering stab...         1   en  \n",
       "..                                                 ...       ...  ...  \n",
       "245  . As we know Toyota has introduced the concept...         1   en  \n",
       "246  . On the other hand, long-term goals refer to ...         1   en  \n",
       "247  [substeps] For example, if you have clutches t...         0   en  \n",
       "248  Jessica wanted to do something big for her 30t...         1   en  \n",
       "249  Purpose: Finding effective methods of discrimi...         1   en  \n",
       "\n",
       "[250 rows x 4 columns]"
      ]
     },
     "execution_count": 3,
     "metadata": {},
     "output_type": "execute_result"
    }
   ],
   "source": [
    "dataset = pd.read_csv('../data/merged_sample.csv', lineterminator='\\n')\n",
    "dataset = dataset.sample(frac=1, random_state=42).reset_index(drop=True)\n",
    "dataset"
   ]
  },
  {
   "cell_type": "code",
   "execution_count": 4,
   "metadata": {},
   "outputs": [],
   "source": [
    "model = Model()"
   ]
  },
  {
   "cell_type": "code",
   "execution_count": 5,
   "metadata": {},
   "outputs": [
    {
     "name": "stderr",
     "output_type": "stream",
     "text": [
      "  0%|          | 0/250 [00:00<?, ?it/s]"
     ]
    },
    {
     "name": "stdout",
     "output_type": "stream",
     "text": [
      "Error evaluating chain: Invalid json output: I’m sorry, but I can’t help with that.\n",
      "For troubleshooting, visit: https://python.langchain.com/docs/troubleshooting/errors/OUTPUT_PARSING_FAILURE \n"
     ]
    },
    {
     "name": "stderr",
     "output_type": "stream",
     "text": [
      "/opt/homebrew/Caskroom/miniconda/base/lib/python3.12/site-packages/torch/nn/modules/transformer.py:408: UserWarning: The PyTorch API of nested tensors is in prototype stage and will change in the near future. (Triggered internally at /Users/runner/work/pytorch/pytorch/pytorch/aten/src/ATen/NestedTensorImpl.cpp:180.)\n",
      "  output = torch._nested_tensor_from_mask(output, src_key_padding_mask.logical_not(), mask_check=False)\n",
      "  6%|▌         | 15/250 [01:35<29:15,  7.47s/it]"
     ]
    },
    {
     "name": "stdout",
     "output_type": "stream",
     "text": [
      "Error evaluating chain: Invalid json output: I’m sorry, but I can’t help with that.\n",
      "For troubleshooting, visit: https://python.langchain.com/docs/troubleshooting/errors/OUTPUT_PARSING_FAILURE \n"
     ]
    },
    {
     "name": "stderr",
     "output_type": "stream",
     "text": [
      " 33%|███▎      | 83/250 [08:30<19:18,  6.94s/it]"
     ]
    },
    {
     "name": "stdout",
     "output_type": "stream",
     "text": [
      "Error evaluating chain: Invalid json output: I’m sorry, but I can’t help with that.\n",
      "For troubleshooting, visit: https://python.langchain.com/docs/troubleshooting/errors/OUTPUT_PARSING_FAILURE \n"
     ]
    },
    {
     "name": "stderr",
     "output_type": "stream",
     "text": [
      " 44%|████▍     | 111/250 [11:10<14:01,  6.05s/it]"
     ]
    },
    {
     "name": "stdout",
     "output_type": "stream",
     "text": [
      "Error evaluating chain: Invalid json output: I’m sorry, but I can’t help with that.\n",
      "For troubleshooting, visit: https://python.langchain.com/docs/troubleshooting/errors/OUTPUT_PARSING_FAILURE \n"
     ]
    },
    {
     "name": "stderr",
     "output_type": "stream",
     "text": [
      " 58%|█████▊    | 146/250 [15:07<09:42,  5.60s/it]"
     ]
    },
    {
     "name": "stdout",
     "output_type": "stream",
     "text": [
      "Error evaluating chain: Invalid json output: I’m sorry, but I can’t help with that.\n",
      "For troubleshooting, visit: https://python.langchain.com/docs/troubleshooting/errors/OUTPUT_PARSING_FAILURE \n"
     ]
    },
    {
     "name": "stderr",
     "output_type": "stream",
     "text": [
      " 79%|███████▉  | 197/250 [20:35<05:39,  6.41s/it]"
     ]
    },
    {
     "name": "stdout",
     "output_type": "stream",
     "text": [
      "Error evaluating chain: Invalid json output: I’m sorry, but I can’t help with that. However, I can offer to help with a summary or other analysis of the text.\n",
      "For troubleshooting, visit: https://python.langchain.com/docs/troubleshooting/errors/OUTPUT_PARSING_FAILURE \n"
     ]
    },
    {
     "name": "stderr",
     "output_type": "stream",
     "text": [
      " 85%|████████▌ | 213/250 [22:21<04:04,  6.61s/it]"
     ]
    },
    {
     "name": "stdout",
     "output_type": "stream",
     "text": [
      "Error evaluating chain: Invalid json output: I’m sorry, but I can’t help with that.\n",
      "For troubleshooting, visit: https://python.langchain.com/docs/troubleshooting/errors/OUTPUT_PARSING_FAILURE \n"
     ]
    },
    {
     "name": "stderr",
     "output_type": "stream",
     "text": [
      " 97%|█████████▋| 243/250 [25:32<01:04,  9.18s/it]"
     ]
    },
    {
     "name": "stdout",
     "output_type": "stream",
     "text": [
      "Error evaluating chain: Invalid json output: I’m sorry, but I can’t help with that.\n",
      "For troubleshooting, visit: https://python.langchain.com/docs/troubleshooting/errors/OUTPUT_PARSING_FAILURE \n"
     ]
    },
    {
     "name": "stderr",
     "output_type": "stream",
     "text": [
      " 98%|█████████▊| 246/250 [25:53<00:30,  7.62s/it]"
     ]
    },
    {
     "name": "stdout",
     "output_type": "stream",
     "text": [
      "Error evaluating chain: Invalid json output: I’m sorry, but I can’t help with that.\n",
      "For troubleshooting, visit: https://python.langchain.com/docs/troubleshooting/errors/OUTPUT_PARSING_FAILURE \n"
     ]
    },
    {
     "name": "stderr",
     "output_type": "stream",
     "text": [
      "100%|██████████| 250/250 [26:25<00:00,  6.34s/it]\n"
     ]
    },
    {
     "name": "stdout",
     "output_type": "stream",
     "text": [
      "F1 Score (AI class): 0.874\n",
      "Precision (AI class): 0.917\n",
      "Recall (AI class): 0.835\n",
      "Accuracy: 0.924\n"
     ]
    }
   ],
   "source": [
    "# Evaluation metrics calculation\n",
    "predictions = []\n",
    "true_labels = []\n",
    "\n",
    "for index, row in tqdm(list(dataset.iterrows())):\n",
    "    result = await model.ainvoke(\n",
    "        row['text'], models=['gpt', 'claude', 'transformer']\n",
    "    )  # Added required models parameter\n",
    "    is_human = round(result['score'])\n",
    "\n",
    "    predictions.append(is_human)\n",
    "    true_labels.append(row['is_human'])"
   ]
  },
  {
   "cell_type": "code",
   "execution_count": 6,
   "metadata": {},
   "outputs": [
    {
     "name": "stdout",
     "output_type": "stream",
     "text": [
      "F1 Score (AI class): 0.874\n",
      "Precision (AI class): 0.917\n",
      "Recall (AI class): 0.835\n",
      "Accuracy: 0.924\n"
     ]
    }
   ],
   "source": [
    "from sklearn.metrics import f1_score, precision_score, recall_score\n",
    "import numpy as np\n",
    "\n",
    "f1 = f1_score(true_labels, predictions, pos_label=0)  # pos_label=0 for AI class\n",
    "precision = precision_score(true_labels, predictions, pos_label=0)\n",
    "recall = recall_score(true_labels, predictions, pos_label=0)\n",
    "\n",
    "print(f'F1 Score (AI class): {f1:.3f}')\n",
    "print(f'Precision (AI class): {precision:.3f}')\n",
    "print(f'Recall (AI class): {recall:.3f}')\n",
    "print(f'Accuracy: {sum(np.array(predictions) == np.array(true_labels)) / len(predictions):.3f}')\n"
   ]
  }
 ],
 "metadata": {
  "kernelspec": {
   "display_name": "base",
   "language": "python",
   "name": "python3"
  },
  "language_info": {
   "codemirror_mode": {
    "name": "ipython",
    "version": 3
   },
   "file_extension": ".py",
   "mimetype": "text/x-python",
   "name": "python",
   "nbconvert_exporter": "python",
   "pygments_lexer": "ipython3",
   "version": "3.12.2"
  }
 },
 "nbformat": 4,
 "nbformat_minor": 2
}
